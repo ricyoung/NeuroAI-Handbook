{
 "cells": [
  {
   "cell_type": "markdown",
   "metadata": {
    "slideshow": {
     "slide_type": "slide"
    }
   },
   "source": [
    "# Creating Presentations with RISE\n",
    "## A Guide for the NeuroAI Handbook\n",
    "\n",
    "This notebook demonstrates how to create interactive slide presentations from Jupyter notebooks using RISE (Reveal.js - Jupyter/IPython Slideshow Extension)."
   ]
  },
  {
   "cell_type": "markdown",
   "metadata": {
    "slideshow": {
     "slide_type": "slide"
    }
   },
   "source": [
    "## What is RISE?\n",
    "\n",
    "- **R**eveal.js **I**Python **S**lideshow **E**xtension\n",
    "- Transforms Jupyter notebooks into interactive Reveal.js-based presentations\n",
    "- Allows for seamless transitions between slides while preserving code execution capability\n",
    "- Perfect for teaching or presenting research findings with live code demonstrations"
   ]
  },
  {
   "cell_type": "markdown",
   "metadata": {
    "slideshow": {
     "slide_type": "slide"
    }
   },
   "source": [
    "## Installing RISE\n",
    "\n",
    "RISE can be installed using pip:\n",
    "\n",
    "```bash\n",
    "pip install rise\n",
    "```\n",
    "\n",
    "After installation, you may need to enable the extension:\n",
    "\n",
    "```bash\n",
    "jupyter-nbextension install rise --py --sys-prefix\n",
    "jupyter-nbextension enable rise --py --sys-prefix\n",
    "```"
   ]
  },
  {
   "cell_type": "markdown",
   "metadata": {
    "slideshow": {
     "slide_type": "slide"
    }
   },
   "source": [
    "## Creating Slides with RISE\n",
    "\n",
    "1. Create a regular Jupyter notebook with your content\n",
    "2. Use the Cell Toolbar menu: View → Cell Toolbar → Slideshow\n",
    "3. Set the slide type for each cell:\n",
    "   - **Slide**: Start a new slide\n",
    "   - **Sub-slide**: Start a new sub-slide (vertical navigation)\n",
    "   - **Fragment**: Content appears incrementally on the current slide\n",
    "   - **Skip**: Cell is not included in the slideshow\n",
    "   - **Notes**: Speaker notes (not displayed in the presentation)"
   ]
  },
  {
   "cell_type": "markdown",
   "metadata": {
    "slideshow": {
     "slide_type": "subslide"
    }
   },
   "source": [
    "### Using Cell Metadata\n",
    "\n",
    "You can also set slide properties directly in cell metadata:\n",
    "\n",
    "```json\n",
    "{\n",
    "  \"slideshow\": {\n",
    "    \"slide_type\": \"slide\"\n",
    "  }\n",
    "}\n",
    "```\n",
    "\n",
    "Options for `slide_type`: `\"slide\"`, `\"subslide\"`, `\"fragment\"`, `\"skip\"`, `\"notes\"`"
   ]
  },
  {
   "cell_type": "markdown",
   "metadata": {
    "slideshow": {
     "slide_type": "slide"
    }
   },
   "source": [
    "## Example: Chapter 20 Case Studies in NeuroAI\n",
    "\n",
    "Let's demonstrate how we can create slides for Chapter 20 of the NeuroAI Handbook."
   ]
  },
  {
   "cell_type": "markdown",
   "metadata": {
    "slideshow": {
     "slide_type": "slide"
    }
   },
   "source": [
    "# Chapter 20: Case Studies in NeuroAI\n",
    "\n",
    "This presentation covers key case studies where neuroscience has informed AI development."
   ]
  },
  {
   "cell_type": "markdown",
   "metadata": {
    "slideshow": {
     "slide_type": "slide"
    }
   },
   "source": [
    "## Case Study 1: Predictive Coding Networks\n",
    "\n",
    "### Brain ↔ AI Connection\n",
    "\n",
    "**Neuroscience Principle**: The brain constantly generates predictions about incoming sensory information and updates its internal models based on prediction errors.\n",
    "\n",
    "**AI Implementation**: PredNet architecture with explicit representation of prediction errors between layers."
   ]
  },
  {
   "cell_type": "code",
   "execution_count": null,
   "metadata": {
    "slideshow": {
     "slide_type": "subslide"
    }
   },
   "outputs": [],
   "source": [
    "# Simple visualization of predictive coding\n",
    "import numpy as np\n",
    "import matplotlib.pyplot as plt\n",
    "\n",
    "# Generate data\n",
    "t = np.linspace(0, 10, 1000)\n",
    "signal = 0.5 * np.sin(t) + np.random.normal(0, 0.1, size=len(t))\n",
    "prediction = 0.5 * np.sin(t)\n",
    "error = signal - prediction\n",
    "\n",
    "plt.figure(figsize=(10, 6))\n",
    "plt.subplot(3, 1, 1)\n",
    "plt.plot(t, signal, label='Input Signal')\n",
    "plt.legend()\n",
    "plt.title('Input Signal with Noise')\n",
    "\n",
    "plt.subplot(3, 1, 2)\n",
    "plt.plot(t, prediction, 'g', label='Model Prediction')\n",
    "plt.legend()\n",
    "plt.title('Brain\\'s Prediction')\n",
    "\n",
    "plt.subplot(3, 1, 3)\n",
    "plt.plot(t, error, 'r', label='Prediction Error')\n",
    "plt.legend()\n",
    "plt.title('Prediction Error (What the Brain Uses for Learning)')\n",
    "\n",
    "plt.tight_layout()\n",
    "plt.show()"
   ]
  },
  {
   "cell_type": "markdown",
   "metadata": {
    "slideshow": {
     "slide_type": "slide"
    }
   },
   "source": [
    "## Case Study 2: Prioritized Experience Replay\n",
    "\n",
    "### Brain ↔ AI Connection\n",
    "\n",
    "**Neuroscience Principle**: The hippocampus preferentially replays behaviorally relevant experiences during sleep and rest.\n",
    "\n",
    "**AI Implementation**: Reinforcement learning with prioritized replay based on TD-error magnitude."
   ]
  },
  {
   "cell_type": "code",
   "execution_count": null,
   "metadata": {
    "slideshow": {
     "slide_type": "subslide"
    }
   },
   "outputs": [],
   "source": [
    "# Visualize prioritized experience replay\n",
    "import numpy as np\n",
    "import matplotlib.pyplot as plt\n",
    "import matplotlib.patches as patches\n",
    "from matplotlib.colors import LinearSegmentedColormap\n",
    "\n",
    "# Create a grid environment\n",
    "grid_size = 5\n",
    "grid = np.zeros((grid_size, grid_size))\n",
    "\n",
    "# Set start and goal positions\n",
    "start_pos = (0, 0)\n",
    "goal_pos = (4, 4)\n",
    "\n",
    "# Create TD errors (higher near goal and obstacles)\n",
    "td_errors = np.ones((grid_size, grid_size)) * 0.2\n",
    "td_errors[4, 4] = 1.0  # Goal has high TD error\n",
    "td_errors[4, 3] = 0.9\n",
    "td_errors[3, 4] = 0.9\n",
    "td_errors[2, 2] = 0.8  # Obstacle area\n",
    "td_errors[2, 3] = 0.7\n",
    "td_errors[3, 2] = 0.7\n",
    "\n",
    "# Plot the environment and replay probabilities\n",
    "fig, ax = plt.subplots(figsize=(10, 8))\n",
    "\n",
    "# Create custom colormap\n",
    "cmap = LinearSegmentedColormap.from_list('replay_cmap', ['#f5f5f5', '#ffcc00', '#ff6600', '#cc0000'])\n",
    "\n",
    "# Plot TD errors as colors\n",
    "im = ax.imshow(td_errors, cmap=cmap, origin='lower')\n",
    "\n",
    "# Add grid lines\n",
    "for i in range(grid_size + 1):\n",
    "    ax.axhline(i - 0.5, color='black', linestyle='-', linewidth=1)\n",
    "    ax.axvline(i - 0.5, color='black', linestyle='-', linewidth=1)\n",
    "\n",
    "# Mark start and goal\n",
    "start_rect = patches.Rectangle((start_pos[1] - 0.5, start_pos[0] - 0.5), 1, 1, \n",
    "                              linewidth=2, edgecolor='blue', facecolor='none')\n",
    "goal_rect = patches.Rectangle((goal_pos[1] - 0.5, goal_pos[0] - 0.5), 1, 1, \n",
    "                              linewidth=2, edgecolor='green', facecolor='none')\n",
    "ax.add_patch(start_rect)\n",
    "ax.add_patch(goal_rect)\n",
    "\n",
    "# Add labels\n",
    "for i in range(grid_size):\n",
    "    for j in range(grid_size):\n",
    "        text = ax.text(j, i, f'{td_errors[i, j]:.1f}', ha='center', va='center', color='black')\n",
    "\n",
    "# Add colorbar\n",
    "cbar = fig.colorbar(im, ax=ax, shrink=0.8)\n",
    "cbar.set_label('Replay Priority (TD Error)')\n",
    "\n",
    "# Set title and labels\n",
    "ax.set_title('Prioritized Experience Replay')\n",
    "ax.set_xticks(np.arange(grid_size))\n",
    "ax.set_yticks(np.arange(grid_size))\n",
    "ax.set_xticklabels(np.arange(grid_size))\n",
    "ax.set_yticklabels(np.arange(grid_size))\n",
    "\n",
    "plt.tight_layout()\n",
    "plt.show()"
   ]
  },
  {
   "cell_type": "markdown",
   "metadata": {
    "slideshow": {
     "slide_type": "slide"
    }
   },
   "source": [
    "## Case Study 3: Vision Transformer\n",
    "\n",
    "### Brain ↔ AI Connection\n",
    "\n",
    "**Neuroscience Principle**: Visual attention in humans allows selective processing of relevant information.\n",
    "\n",
    "**AI Implementation**: Vision Transformer with self-attention mechanisms between image patches."
   ]
  },
  {
   "cell_type": "markdown",
   "metadata": {
    "slideshow": {
     "slide_type": "fragment"
    }
   },
   "source": [
    "Key innovations:\n",
    "- Division of images into patches\n",
    "- Parallel processing of all patches\n",
    "- Attention-based relationships between patches"
   ]
  },
  {
   "cell_type": "markdown",
   "metadata": {
    "slideshow": {
     "slide_type": "subslide"
    }
   },
   "source": [
    "![Vision Transformer Architecture](https://storage.googleapis.com/neuroai-handbook/vision_transformer.png)\n",
    "\n",
    "*Vision Transformer architecture showing image patches, positional embeddings, and self-attention layers*"
   ]
  },
  {
   "cell_type": "markdown",
   "metadata": {
    "slideshow": {
     "slide_type": "slide"
    }
   },
   "source": [
    "## Practical Activity: Design Your Own NeuroAI Model\n",
    "\n",
    "1. Choose a brain mechanism you find interesting\n",
    "2. Identify its key computational principles\n",
    "3. Sketch an AI architecture inspired by this mechanism\n",
    "4. Consider how you would evaluate its performance"
   ]
  },
  {
   "cell_type": "markdown",
   "metadata": {
    "slideshow": {
     "slide_type": "slide"
    }
   },
   "source": [
    "## Key Takeaways\n",
    "\n",
    "1. Successful NeuroAI implementations focus on **computational principles** rather than precise biological details\n",
    "\n",
    "2. The most effective implementations involve **iterative refinement** between neuroscience insights and AI implementations\n",
    "\n",
    "3. Key areas where neuroscience has informed AI include **attention mechanisms**, **memory systems**, **predictive processing**, and **neural data analysis**\n",
    "\n",
    "4. Implementing neuroscience principles in AI often requires **creative adaptations** to match the constraints of current deep learning frameworks"
   ]
  },
  {
   "cell_type": "markdown",
   "metadata": {
    "slideshow": {
     "slide_type": "slide"
    }
   },
   "source": [
    "## Additional Resources\n",
    "\n",
    "- Interactive notebooks: [github.com/NeuroAI-Handbook](https://github.com/NeuroAI-Handbook)\n",
    "- Code implementations: Available in Chapter 20\n",
    "- Further reading: See references at end of Chapter 20"
   ]
  },
  {
   "cell_type": "markdown",
   "metadata": {
    "slideshow": {
     "slide_type": "slide"
    }
   },
   "source": [
    "# Advantages of RISE for NeuroAI Presentations\n",
    "\n",
    "Let's return to discussing the benefits of RISE for creating presentations from the NeuroAI Handbook content."
   ]
  },
  {
   "cell_type": "markdown",
   "metadata": {
    "slideshow": {
     "slide_type": "slide"
    }
   },
   "source": [
    "## Advantages of RISE vs. Google Slides\n",
    "\n",
    "| Feature | RISE | Google Slides |\n",
    "|---------|------|---------------|\n",
    "| Code execution | ✅ Live code execution | ❌ Static code snippets only |\n",
    "| Integration with content | ✅ Direct from notebook | ❌ Requires copy/paste |\n",
    "| Interactive visualizations | ✅ Fully interactive | ❌ Static images only |\n",
    "| Mathematical expressions | ✅ Native LaTeX support | ⚠️ Limited equation editor |\n",
    "| Version control | ✅ Git-friendly format | ❌ Separate from codebase |\n",
    "| Consistency with handbook | ✅ Same styling possible | ⚠️ Requires manual styling |\n",
    "| Real-time collaboration | ❌ Limited | ✅ Excellent |\n",
    "| Export options | ⚠️ HTML, PDF | ✅ Many formats |"
   ]
  },
  {
   "cell_type": "markdown",
   "metadata": {
    "slideshow": {
     "slide_type": "slide"
    }
   },
   "source": [
    "## When to Use RISE\n",
    "\n",
    "RISE is ideal for NeuroAI Handbook presentations when:\n",
    "\n",
    "- You want to demonstrate live code execution\n",
    "- You need interactive visualizations\n",
    "- You're presenting complex mathematical concepts\n",
    "- You want to maintain consistency with the handbook content\n",
    "- Your audience is technically oriented\n",
    "- You need to make frequent updates to content"
   ]
  },
  {
   "cell_type": "markdown",
   "metadata": {
    "slideshow": {
     "slide_type": "slide"
    }
   },
   "source": [
    "## When to Use Google Slides\n",
    "\n",
    "Google Slides may be preferable when:\n",
    "\n",
    "- Multiple authors need to collaborate simultaneously\n",
    "- You need sophisticated animations and transitions\n",
    "- Your audience includes non-technical stakeholders\n",
    "- You need to incorporate rich media like videos\n",
    "- You require compatibility with PowerPoint\n",
    "- You need advanced presentation features like speaker notes and timed transitions"
   ]
  },
  {
   "cell_type": "markdown",
   "metadata": {
    "slideshow": {
     "slide_type": "slide"
    }
   },
   "source": [
    "## Best Practices for Creating Slides with RISE\n",
    "\n",
    "1. **Start with a template**: Create a template notebook with your desired styling\n",
    "2. **Keep content concise**: Use bullet points and visuals rather than long paragraphs\n",
    "3. **Add interactivity**: Include widgets for demonstrations\n",
    "4. **Use fragments**: Reveal content progressively to maintain focus\n",
    "5. **Include practical examples**: Demonstrate concepts with executable code\n",
    "6. **Test your presentations**: Ensure all code cells execute properly\n",
    "7. **Export as HTML**: Share presentations as standalone HTML files"
   ]
  },
  {
   "cell_type": "markdown",
   "metadata": {
    "slideshow": {
     "slide_type": "slide"
    }
   },
   "source": [
    "## Adding RISE Configuration\n",
    "\n",
    "You can customize RISE behavior by adding configuration to your notebook metadata:\n",
    "\n",
    "```json\n",
    "{\n",
    "  \"rise\": {\n",
    "    \"theme\": \"sky\",\n",
    "    \"transition\": \"fade\",\n",
    "    \"start_slideshow_at\": \"selected\",\n",
    "    \"auto_select\": \"code\",\n",
    "    \"autolaunch\": false\n",
    "  }\n",
    "}\n",
    "```"
   ]
  },
  {
   "cell_type": "markdown",
   "metadata": {
    "slideshow": {
     "slide_type": "subslide"
    }
   },
   "source": [
    "### Available Themes\n",
    "\n",
    "RISE uses Reveal.js themes:\n",
    "- **black**: Black background, white text (default)\n",
    "- **white**: White background, dark text\n",
    "- **league**: Dark gray background\n",
    "- **sky**: Blue background\n",
    "- **beige**: Beige background\n",
    "- **simple**: White background, black text\n",
    "- **serif**: Cappuccino background, gray text\n",
    "- **night**: Black background, thick white text\n",
    "- **moon**: Dark blue background\n",
    "- **solarized**: Cream-colored background"
   ]
  },
  {
   "cell_type": "markdown",
   "metadata": {
    "slideshow": {
     "slide_type": "slide"
    }
   },
   "source": [
    "## Integration with JupyterBook\n",
    "\n",
    "To integrate RISE slides with the NeuroAI Handbook:\n",
    "\n",
    "1. Create slide notebooks for each chapter\n",
    "2. Add links in the chapter content to the slide versions\n",
    "3. Include a presentations section in the table of contents\n",
    "4. Configure JupyterBook to properly handle RISE notebooks"
   ]
  },
  {
   "cell_type": "markdown",
   "metadata": {
    "slideshow": {
     "slide_type": "slide"
    }
   },
   "source": [
    "## Conclusion\n",
    "\n",
    "RISE provides an excellent way to create interactive presentations directly from Jupyter notebooks, making it ideal for teaching and presenting NeuroAI concepts.\n",
    "\n",
    "By integrating RISE with the NeuroAI Handbook, you can:\n",
    "- Maintain consistency between content and presentations\n",
    "- Demonstrate concepts with live code execution\n",
    "- Create engaging, interactive learning experiences\n",
    "- Easily update presentations when the handbook content changes"
   ]
  },
  {
   "cell_type": "markdown",
   "metadata": {
    "slideshow": {
     "slide_type": "skip"
    }
   },
   "source": [
    "## References\n",
    "\n",
    "- RISE Documentation: https://rise.readthedocs.io/\n",
    "- Reveal.js: https://revealjs.com/\n",
    "- Jupyter Book: https://jupyterbook.org/"
   ]
  }
 ],
 "metadata": {
  "celltoolbar": "Slideshow",
  "kernelspec": {
   "display_name": "Python 3",
   "language": "python",
   "name": "python3"
  },
  "language_info": {
   "codemirror_mode": {
    "name": "ipython",
    "version": 3
   },
   "file_extension": ".py",
   "mimetype": "text/x-python",
   "name": "python",
   "nbconvert_exporter": "python",
   "pygments_lexer": "ipython3",
   "version": "3.8.10"
  },
  "rise": {
   "autolaunch": false,
   "enable_chalkboard": true,
   "scroll": true,
   "theme": "sky",
   "transition": "slide"
  }
 },
 "nbformat": 4,
 "nbformat_minor": 4
}