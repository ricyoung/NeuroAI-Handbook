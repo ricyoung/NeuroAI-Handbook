{
 "cells": [
  {
   "cell_type": "markdown",
   "metadata": {},
   "source": [
    "# Example Notebook\n",
    "\n",
    "This is a demonstration of how Jupyter notebooks can be included in the NeuroAI Handbook.\n",
    "\n",
    "## Basic Python Demo\n",
    "\n",
    "Below are some simple Python examples that don't require external libraries:"
   ]
  },
  {
   "cell_type": "code",
   "execution_count": null,
   "metadata": {},
   "outputs": [],
   "source": [
    "# Basic Python code that doesn't need external dependencies\n",
    "import sys\n",
    "import math\n",
    "import random\n",
    "\n",
    "print(f\"Python version: {sys.version}\")\n",
    "print(f\"Pi is approximately {math.pi:.6f}\")\n",
    "print(f\"Random number between 0 and 1: {random.random()}\")"
   ]
  },
  {
   "cell_type": "markdown",
   "metadata": {},
   "source": [
    "## Simple Neural Network Simulation\n",
    "\n",
    "Below is a very simple neural network implemented with pure Python:"
   ]
  },
  {
   "cell_type": "code",
   "execution_count": null,
   "metadata": {},
   "outputs": [],
   "source": [
    "import math\n",
    "\n",
    "# A simple neuron with sigmoid activation\n",
    "def sigmoid(x):\n",
    "    return 1 / (1 + math.exp(-x))\n",
    "\n",
    "class SimpleNeuron:\n",
    "    def __init__(self, weights, bias):\n",
    "        self.weights = weights\n",
    "        self.bias = bias\n",
    "        \n",
    "    def forward(self, inputs):\n",
    "        # Weighted sum of inputs\n",
    "        total = sum(w * x for w, x in zip(self.weights, inputs)) + self.bias\n",
    "        # Apply activation function\n",
    "        return sigmoid(total)\n",
    "\n",
    "# Create a simple neuron with 2 inputs\n",
    "neuron = SimpleNeuron(weights=[0.5, -0.5], bias=0.0)\n",
    "\n",
    "# Test with a few inputs\n",
    "test_inputs = [(0, 0), (0, 1), (1, 0), (1, 1)]\n",
    "for inputs in test_inputs:\n",
    "    output = neuron.forward(inputs)\n",
    "    print(f\"Input: {inputs}, Output: {output:.4f}\")"
   ]
  },
  {
   "cell_type": "markdown",
   "metadata": {},
   "source": [
    "## Simple Data Visualization\n",
    "\n",
    "If matplotlib is available, the following code will create a simple plot:"
   ]
  },
  {
   "cell_type": "code",
   "execution_count": null,
   "metadata": {},
   "outputs": [],
   "source": [
    "try:\n",
    "    import matplotlib.pyplot as plt\n",
    "    import math\n",
    "    \n",
    "    # Generate data for a sine wave\n",
    "    x = [0.1 * i for i in range(100)]\n",
    "    y = [math.sin(xi) for xi in x]\n",
    "    \n",
    "    # Create a simple plot\n",
    "    plt.figure(figsize=(10, 6))\n",
    "    plt.plot(x, y, 'b-', label='sin(x)')\n",
    "    plt.title('Simple Sine Wave')\n",
    "    plt.xlabel('x')\n",
    "    plt.ylabel('sin(x)')\n",
    "    plt.grid(True)\n",
    "    plt.legend()\n",
    "    plt.show()\n",
    "except ImportError:\n",
    "    print(\"Matplotlib is not available. Install with: pip install matplotlib\")\n",
    "    print(\"The plot would show a sine wave from 0 to 10.\")"
   ]
  },
  {
   "cell_type": "markdown",
   "metadata": {},
   "source": [
    "## Conclusion\n",
    "\n",
    "This notebook demonstrates how to include executable code in the NeuroAI Handbook. For more complex examples that use neuroscience and AI libraries, see the chapter-specific code examples."
   ]
  }
 ],
 "metadata": {
  "kernelspec": {
   "display_name": "Python 3",
   "language": "python",
   "name": "python3"
  },
  "language_info": {
   "codemirror_mode": {
    "name": "ipython",
    "version": 3
   },
   "file_extension": ".py",
   "mimetype": "text/x-python",
   "name": "python",
   "nbconvert_exporter": "python",
   "pygments_lexer": "ipython3",
   "version": "3.8.10"
  }
 },
 "nbformat": 4,
 "nbformat_minor": 4
}